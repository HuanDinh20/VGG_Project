{
 "cells": [
  {
   "cell_type": "code",
   "execution_count": 7,
   "outputs": [],
   "source": [
    "from torch import nn\n",
    "import torch\n",
    "\n",
    "\n",
    "class VGG(nn.Module):\n",
    "    def __init__(self, architecture, num_classes):\n",
    "        super(VGG, self).__init__()\n",
    "        vgg_blocks = []\n",
    "        for num_conv, (in_channels, out_channels) in architecture:\n",
    "            vgg_blocks.append(vgg_block(num_conv, in_channels, out_channels))\n",
    "        self.net = nn.Sequential(\n",
    "            *vgg_blocks,\n",
    "            nn.Flatten(),\n",
    "            nn.LazyLinear(4096), nn.ReLU(),\n",
    "            nn.Dropout(0.5),\n",
    "            nn.LazyLinear(4096), nn.ReLU(),\n",
    "            nn.Dropout(0.5),\n",
    "            nn.LazyLinear(num_classes))\n",
    "\n",
    "    def forward(self, X):\n",
    "        X = self.net(X)\n",
    "        return X\n",
    "\n",
    "    def layer_summary(self, X_shape):\n",
    "        X = torch.rand(*X_shape)\n",
    "        for layer in self.net:\n",
    "            X = layer(X)\n",
    "            print(layer.__class__.__name__, \"output shape: \", X.shape)\n",
    "\n",
    "    @staticmethod\n",
    "    def xavier_uniform(layer):\n",
    "        if type(layer) in [nn.Conv2d, nn.Linear]:\n",
    "            torch.nn.init.xavier_uniform_(layer.weight)\n",
    "            layer.bias.data.fill_(0.00001)\n",
    "\n",
    "\n",
    "def vgg_block(num_conv, num_InChannels, num_OutChannels):\n",
    "    layers = []\n",
    "    for _ in range(num_conv):\n",
    "        layers.append(nn.Conv2d(num_InChannels, num_OutChannels, kernel_size=3, padding=1))\n",
    "        layers.append(nn.ReLU())\n",
    "    layers.append(nn.MaxPool2d(kernel_size=2, stride=2))\n",
    "    return nn.Sequential(*layers)"
   ],
   "metadata": {
    "collapsed": false,
    "pycharm": {
     "name": "#%%\n"
    }
   }
  },
  {
   "cell_type": "markdown",
   "source": [],
   "metadata": {
    "collapsed": false,
    "pycharm": {
     "name": "#%% md\n"
    }
   }
  },
  {
   "cell_type": "code",
   "execution_count": 23,
   "outputs": [],
   "source": [
    "arch=[[1, (1, 64)], [1, (64, 128)],[ 1, (128, 256)],[ 2, (256, 256)],[ 1, (256, 512)], [2, (512, 512)], [2, (512, 512)]]"
   ],
   "metadata": {
    "collapsed": false,
    "pycharm": {
     "name": "#%%\n"
    }
   }
  },
  {
   "cell_type": "code",
   "execution_count": 24,
   "outputs": [],
   "source": [
    "model = VGG(arch, 10)"
   ],
   "metadata": {
    "collapsed": false,
    "pycharm": {
     "name": "#%%\n"
    }
   }
  },
  {
   "cell_type": "code",
   "execution_count": 25,
   "outputs": [
    {
     "name": "stdout",
     "output_type": "stream",
     "text": [
      "Sequential output shape:  torch.Size([1, 64, 112, 112])\n",
      "Sequential output shape:  torch.Size([1, 128, 56, 56])\n",
      "Sequential output shape:  torch.Size([1, 256, 28, 28])\n",
      "Sequential output shape:  torch.Size([1, 256, 14, 14])\n",
      "Sequential output shape:  torch.Size([1, 512, 7, 7])\n",
      "Sequential output shape:  torch.Size([1, 512, 3, 3])\n",
      "Sequential output shape:  torch.Size([1, 512, 1, 1])\n",
      "Flatten output shape:  torch.Size([1, 512])\n",
      "Linear output shape:  torch.Size([1, 4096])\n",
      "ReLU output shape:  torch.Size([1, 4096])\n",
      "Dropout output shape:  torch.Size([1, 4096])\n",
      "Linear output shape:  torch.Size([1, 4096])\n",
      "ReLU output shape:  torch.Size([1, 4096])\n",
      "Dropout output shape:  torch.Size([1, 4096])\n",
      "Linear output shape:  torch.Size([1, 10])\n"
     ]
    }
   ],
   "source": [
    "model.layer_summary((1,1,224,224))"
   ],
   "metadata": {
    "collapsed": false,
    "pycharm": {
     "name": "#%%\n"
    }
   }
  },
  {
   "cell_type": "code",
   "execution_count": null,
   "outputs": [],
   "source": [],
   "metadata": {
    "collapsed": false,
    "pycharm": {
     "name": "#%%\n"
    }
   }
  }
 ],
 "metadata": {
  "kernelspec": {
   "display_name": "Python 3",
   "language": "python",
   "name": "python3"
  },
  "language_info": {
   "codemirror_mode": {
    "name": "ipython",
    "version": 2
   },
   "file_extension": ".py",
   "mimetype": "text/x-python",
   "name": "python",
   "nbconvert_exporter": "python",
   "pygments_lexer": "ipython2",
   "version": "2.7.6"
  }
 },
 "nbformat": 4,
 "nbformat_minor": 0
}